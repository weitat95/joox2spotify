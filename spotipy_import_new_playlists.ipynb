{
 "cells": [
  {
   "cell_type": "markdown",
   "metadata": {},
   "source": [
    "Initialization"
   ]
  },
  {
   "cell_type": "code",
   "execution_count": 65,
   "metadata": {},
   "outputs": [],
   "source": [
    "import spotipy\n",
    "import spotipy.util as util\n",
    "import math\n",
    "\n",
    "\n",
    "username=\"<SPOTIFYUSERNAME>\"\n",
    "scope = 'playlist-modify-public'\n",
    "# get client_id, client_secret in https://developer.spotify.com/\n",
    "client_id ='<CLIENT_ID>'\n",
    "client_secret = '<CLIENT_SECRET>'\n",
    "redirect_uri=r'http://localhost/' # have to add this to application in https://developer.spotify.com/ redirect_uri\n",
    "token = util.prompt_for_user_token(username, scope, client_id, client_secret, redirect_uri)\n",
    "sp = spotipy.Spotify(auth=token)\n"
   ]
  },
  {
   "cell_type": "markdown",
   "metadata": {},
   "source": [
    "Query for songs in Spotify"
   ]
  },
  {
   "cell_type": "code",
   "execution_count": 97,
   "metadata": {},
   "outputs": [
    {
     "name": "stdout",
     "output_type": "stream",
     "text": [
      "Number of songs: 629\n",
      "Iteration:  1 / 629\n",
      "Iteration:  51 / 629\n",
      "Iteration:  101 / 629\n",
      "Iteration:  151 / 629\n",
      "Iteration:  201 / 629\n",
      "Iteration:  251 / 629\n",
      "Iteration:  301 / 629\n",
      "Iteration:  351 / 629\n",
      "Iteration:  401 / 629\n",
      "Iteration:  451 / 629\n",
      "Iteration:  501 / 629\n",
      "Iteration:  551 / 629\n",
      "Iteration:  601 / 629\n",
      "Number of Songs not found:  90\n",
      "Number of Songs found:  539\n",
      "Number of duplicates:  19\n"
     ]
    }
   ],
   "source": [
    "song_list = [u'Diamond Heart (Syn Cole Remix)', u'Yi Qian Wan Ci De Lei Shui', u'Don\\'t Give Up On Me (From \"Five Feet Apart\")', u\"Don't Give Up On Me\", u'Yu Ji', u'Sparkle (Movie ver.)', u'Dream Lantern', u'Solo (feat. Demi Lovato)', u'\\u6210\\u5168', u'Gei Wo Yi Ge Li You Wang Ji', u'Que Kou (Dian Ying \"Deng Yi Ge Ren Ka Fei\" Zhu Ti Qu)', u\"At Least I've Got You\", u'\\u81f4\\u59d7\\u59d7\\u6765\\u8fdf\\u7684\\u4f60', u'Guan Zhong', u'Ren Zhen De Xue', u'Rang Wo Liu Zai Ni Shen Bian', u'Wandering Poet', u'Gai Wang De Ri Zi - Han Ju \" Yun Hua De Yue Guang \" Pian Wei Qu', u'After Saying Goodbye', u'Shui San Jiu San', u'Shui Huang', u'Shei (Live Version)', u'\\u8d1d\\u52a0\\u5c14\\u6e56\\u7554', u'Walking in the cold', u'Tiao Wu De Fan Gu', u'Dian Qi Jiao Jian Ai', u'Lose Myself', u'\\u904e\\u5f97\\u53bb (<\\u6211\\u79df\\u4e86\\u4e00\\u500b\\u60c5\\u4eba>\\u63d2\\u66f2)', u'Still Missing', u'Lian Ming Dai Xing', u'The Light Runner', u'The man', u'\\u9189\\u8d64\\u58c1', u'\\u91ce\\u5b50', u'Wrong Man', u'Stranger', u'Mo Sheng Ren', u'Pei Ni - Dian Ying \" Ling Bo Te Fan Nao \" Zhu Ti Qu', u'Sweetness In The Rain', u'Youth Lies Within', u'Tough', u'Under The Cloud', u'Mo Gui Zhong De Tian Shi', u'\\u9c7c\\u4ed4', u\"LET'S NOT FALL IN LOVE\", u'Zenzenzense', u'Wang Le Wo', u'\\u5fd8\\u8bb0\\u62e5\\u62b1 (\\u7535\\u5f71 \\u300c234\\u8bf4\\u7231\\u4f60\\u300d \\u4e3b\\u9898\\u66f2)', u'Nostalgia', u'\\u5ffd\\u7136\\u4e4b\\u95f4', u\"How To Say I Don't Love You\", u'Si Mu - Dian Shi Ju \" San Sheng San Shi Shi Li Tao Hua \" Zhu Ren Gong Ren Wu Qu', u'Hyehwadong(or Sangmundong) (Guitar Ver.)', u'Back to the Day (Theme song of TV Drama \"Magical Space-Time\")', u'Growing Fond of You', u'Wo Bu Shi Ni Gai Ai De Na Ge Ren', u'Wo Bu Neng Wang Ji Ni - Dian Ying \" Ji Yi Da Shi \" Ji Yi Zhu Ti Qu', u'Wo Bu Nan Guo', u'Wo Men Bu Yi Yang', u'Wo Men Mei You Zai Yi Qi', u'Wo Zhi Xiang Zai Hu Wo Zai Hu De', u'Wo Duo Xi Huan Ni , Ni Hui Zhi Dao', u'I Miss You So', u'Happy Me', u'\\u6211\\u5f88\\u5fd9', u'Wo Hen Yu Kuai', u'Wo Huai Nian De', u'\\u6211\\u600e\\u4e48\\u54ed\\u4e86', u'\\u6211\\u60f3\\u6211\\u4e0d\\u4f1a\\u7231\\u4f60', u'\\u6211\\u60f3\\u8981\\u8bf4', u'Not So In Love', u'\\u6211\\u7231\\u4f60', u'Wo Zhen De Shou Shang Le (Original Cut)', u\"I Don't Care\", u'Quit Smoking', u'Quit Smoking', u'\\u624b\\u5199\\u7684\\u4ece\\u524d', u'Beautiful', u'Shou Zhang Xin', u'\\u7121\\u8207\\u502b\\u6bd4\\u7684\\u7f8e\\u9e97', u\"Can't Have You\", u'\\u65e5\\u591c\\u60f3\\u4f60', u'Time Joke', u'Yi Ran Yi Bao Zha', u'\\u661f\\u9645\\u65c5\\u884c', u'Shi Shen Me Rang Wo Yu Jian Zhe Yang De Ni', u'Not Good Enough', u'\\u6674\\u5929', u'\\u66d6\\u6627', u'\\u66ff\\u6211\\u7167\\u987e\\u5979', u'Without You (feat.OF YG NEW GIRL GROUP)', u'You Yi Zhong Yong Qi Jiao Fang Qi', u'The Knot', u'The Promise Of Peach Blossom', u'Meng Yi Chang', u'Just Like A Dream (Live)', u'\\u68a6\\u8bdd (\\u7535\\u89c6\\u5267\\u300a\\u5e7b\\u57ce\\u300b\\u63d2\\u66f2)', u'\\u6b22\\u989c', u'Unbreakable Love', u'Party Animal', u'\\u6d6a\\u8cbb', u'Yu Huo Cheng Shi', u'\\u6d77\\u9614\\u5929\\u7a7a', u'Sky', u'Tao Dai', u'Fade Away', u'Miao Xiao', u'\\u7070\\u8272', u'Soul mate', u'Dian Shui', u'Chain Of Love', u'Yan Huo Li De Chen Ai', u\"Love Doesn't Need To Pretend (feat. Diana Wang)\", u'\\u7231\\u4f60', u'Unbreakable Love ((The theme song of micro movie) [the most precious thing of love, the voice])', u'Ai Tai Tong', u'\\u7231\\u5982\\u6f6e\\u6c34', u'\\u7231\\u60c5\\u5e9f\\u67f4', u'Ai Qing Zhuan Yi', u'The Courage To Love', u'Love Ocean', u'Ai Zhe Ai Zhe Jiu Yong Yuan', u'\\u731c\\u4e0d\\u900f', u'Guess', u'\\u7591\\u5fc3\\u75c5', u'THE MEDICINE MAN', u'\\u76db\\u590f\\u7684\\u679c\\u5b9e', u'Reality', u'Eyes, Nose, Lips', u'Yan Lei De Ming Zi', u'\\u77ac\\u9593', u'Mao Dun', u'\\u77e5\\u8db3', u'Zhu Ni Yi Lu Shun Feng', u'From the Injury', u'\\u7a3b\\u9999', u'Kong Kong Ru Ye', u'\\u7a7a\\u7a7a\\u5982\\u4e5f', u'Tu Ran Hao Xiang Ni', u'Di Yi Bai Ge Wo (Man)', u'The Third Person And I', u'Deng Ni', u'Waiting For You (\\u7b49\\u4f60\\u4e0b\\u8bfe)', u'Deng Ni De Ji Jie', u'\\u7b97\\u4ec0\\u4e48\\u7537\\u4eba', u'Exercise Love', u'Ni Bu Shi Zhen Zheng De Kuai Le', u'Are You There', u'Ni Zai Fan Nao She Mo', u'You Are So Cute (feat. Song Ji Hyo)', u'Ni Jiu Bu Yao Xiang Qi Wo', u'The Love You Want', u'\\u4f60\\u9084\\u8981\\u6211\\u600e\\u6a23', u'\\u4f60\\u90a3\\u4e48\\u7231\\u4ed6', u'How Have You Been? (Ending Theme Song of TVBS  Series \"Life List\")', u'\\u5012\\u5e26', u'\\u5047\\u7537\\u53cb', u'\\u5047\\u884c\\u50e7', u'Fool', u'Cliff To The Heaven', u'\\u5149\\u5e74\\u4e4b\\u5916 \\uff08\\u7535\\u5f71 \\u300aPassengers\\u300b \\u4e2d\\u56fd\\u533a\\u4e3b\\u9898\\u66f2\\uff09', u'Guang Hui Sui Yue', u'Kepler', u'Who in the world will listen to you?', u'The Key', u'\\u5176\\u5be6', u'Qi Shi Wo Men Zhi De Xing Fu', u'Liang Liang - Dian Shi Ju \" San Sheng San Shi Shi Li Tao Hua \" Pian Wei Qu', u'\\u5206\\u5f00\\u4ee5\\u540e (2014\\u56de\\u5fc6\\u56de\\u653e\\u7248)', u'\\u5206\\u624b\\u8bf4\\u7231\\u4f60', u'\\u525b\\u525b\\u597d\\uff08\\u300a\\u6211\\u8207\\u4f60\\u7684\\u5149\\u5e74\\u8ddd\\u96e2\\u300b \\u5f71\\u8996\\u539f\\u8072\\u5927\\u789f\\uff09', u'\\u521a\\u597d\\u9047\\u89c1\\u4f60', u'Chu Ai', u'The First Snow', u'\\u522b\\u6015\\u6211\\u4f24\\u5fc3', u'How have you been?', u'How have you been?', u'\\u52d5\\u7269\\u4e16\\u754c', u'Shi Nian', u'\\u5341\\u842c\\u6beb\\u5347\\u6dda\\u6c34', u'\\u5343\\u53e4\\uff08\\u96fb\\u8996\\u5287\\u300a\\u82b1\\u5343\\u9aa8\\u300b\\u7247\\u982d\\u66f2\\uff09', u'\\u53ef\\u4e0d\\u53ef\\u4ee5\\u4f60\\u4e5f\\u521a\\u597d\\u559c\\u6b22\\u6211', u'Here, After, Us', u'\\u541b\\u3092\\u306e\\u305b\\u3066\\uff5e\\u300c\\u5929\\u7a7a\\u306e\\u57ce\\u30e9\\u30d4\\u30e5\\u30bf\\u300d\\u3088\\u308a', u'\\u542c\\u89c1\\u4e0b\\u96e8\\u7684\\u58f0\\u97f3', u'Ting Xue', u'\\u544a\\u767d\\u6c14\\u7403', u'Bite My Lower Lip', u'Hello (Owari)', u'King of Comedy', u'Really Like You', u'Xi Huan Ji Mo', u'Hui Yi Na Mo Shang', u'Because Of Love', u'Kings And Paupers', u'Zai , Ye Bu Jian', u'Zai Xing Fu De Lu Shang - Fanfan Fan Wei Qi \" Zai Xing Fu De Lu Shang \" Shijie Xun Hui Yan Chang Hui Zhu Ti Qu', u'Without You (feat. Z-Chen)', u'Tiny sky', u'Long Distance', u'\\u591c\\u7a7a\\u4e2d\\u6700\\u4eae\\u7684\\u661f', u'Burn', u'Spoiled Innocence', u'Tian Hei Hei', u'Shi Yi De Jin Yu', u'\\u5931\\u604b\\u4e8b\\u5c0f', u'\\u5931\\u843d\\u6c99\\u6d32', u'Song About You', u'Hao Peng You De Zhu Fu', u'I Will Go To You Like The First Snow', u'When The Wind Blows (Korean Ver.)', u'If You Still Cant Let Go \\u5982\\u679c\\u4f60\\u8fd8\\u653e\\u4e0d\\u4e0b', u'What If...', u'The Chaos After You', u'Like Smoke', u'Hun Li De Zhu Fu', u'Gu Dan Xin Shi', u'Addicted To Loneliness', u'Xue Mao Jiao', u'\\u5b89\\u9759', u'The Loved Ones', u'Playhouse', u'\\u5bc2\\u5bde\\u4e0d\\u75db', u'Harmless Loneliness (GTV Korean Series \"All about My Mom\" Opening Theme Song)', u'\\u5c0f\\u5c0f', u'\\u5c0f\\u60c5\\u6b4c', u'That Is It', u'Shuai Dao Fen Shou', u'\\u5e26\\u4f60\\u53bb\\u65c5\\u884c', u'Ping Fan Zhi Lu', u'Nian Lun Shuo', u'\\u5e74\\u8f2a\\uff08\\u96fb\\u8996\\u5287\\u300a\\u82b1\\u5343\\u9aa8\\u300b\\u63d2\\u66f2\\uff09', u'Xing Fu Le Ran Hou Ne', u'\\u5e78\\u798f\\u5c31\\u597d (<\\u6211\\u79df\\u4e86\\u4e00\\u500b\\u60c5\\u4eba>\\u7247\\u5c3e\\u66f2)', u'Realize', u'Aliens', u'Dang Ai Lai Qiao Men - Dian Shi Ju \" Fang Qi Wo , Zhua Jin Wo \" Pian Wei Qu', u'\\u5f69\\u8679', u'Hen Jiu Hen Jiu Yi Hou', u'Loved Someone', u'Wei Wei Yi Xiao Hen Qing Cheng', u'\\u5fc3\\u613f\\u4fbf\\u5229\\u8d34', u'\\u5fc3\\u88e1\\u5b78', u'In My Heart', u'Hard To Forget', u'Team', u'Tennis Court', u\"That's What I Like\", u'The A Team', u'The Hardest Part', u'The Heart Wants What It Wants', u'The Middle', u'The One', u'The One That Got Away', u'The Scientist', u'The Show', u'The Spectre', u'The Way I Are (Dance with Somebody) [feat. Lil Wayne]', u'There for You', u\"There's Nothing Holdin' Me Back\", u'Thinking Out Loud', u'This Is What It Takes', u'This Is What You Came For', u'This Love (Shine A Light Live Version)', u'Three Empty Words', u'Thrift Shop (feat. Wanz)', u'Tired', u'Titanium (feat. Sia)', u'Today (feat. Kim Jong Wan of NELL)', u'Too Good At Goodbyes (Edit)', u'Treasure', u'Treat You Better', u'Trouble Is A Friend', u'Troublemaker', u'Try', u'Turn Up The Music', u'Two Ghosts', u'U', u'Undo', u'Unstoppable', u'Until You Were Gone', u'Untitled, 2014', u'Uptown Funk', u'Viva La Vida', u'WAKE ME UP', u'WHISTLE', u'Waiting Outside The Lines', u'Want U Back', u\"We Can't Stop\", u\"We Don't Talk Anymore (feat. Selena Gomez)\", u'What About Us', u'What Lovers Do', u'What the Hell', u'When I Saw You', u'When I Was Your Man', u'Whispers', u'Who Are You', u'Wildest Dreams', u'Wish You Were Here', u'Wolves', u'Worth It', u'Wrecking Ball', u'Yellow', u'Yellow Flicker Beat', u'You Are In Love', u'You Are The Reason', u\"You're My Garden\", u'Young Dumb & Broke', u'Your Days', u'You\\u2019re Not Alone', u'ZUTTER GD&T.O.P Version', u'[Gaeul Achim] : Autumn morning', u'human', u'no tears left to cry', u'Haru Haru', u'Yi Yan Wan Nian', u'Yi Xiao Qing Cheng (\\u5408\\u5531\\u7248)', u'San Sheng San Shi - Dian Shi Ju \" San Sheng San Shi Shi Li Tao Hua \" Pian Tou Qu', u'Xia Yi Miao', u'Xia Yu Tian', u'Rainy Night', u'\\u4e0b\\u96e8\\u7684\\u591c\\u665a', u'Anonymous Sadness', u'\\u4e0d\\u53ef\\u8aaa\\uff08\\u96fb\\u8996\\u5287\\u300a\\u82b1\\u5343\\u9aa8\\u300b\\u7247\\u5c3e\\u66f2\\uff09', u'No More Tears', u\"Can't Bear It (Ending Credit Theme Song Of ''You Are My Sunshine'')\", u'Bu Xiang Dong De', u'Not Your Fault', u'\\u4e0d\\u7231\\u6211\\u5c31\\u62c9\\u5012', u'\\u4e0d\\u8981\\u8bf4\\u8bdd', u'\\u4e0d\\u8be5', u'Tacit (The Theme Song of \"I Belonged to You\")', u'Tacit (The Theme Song of \"I Belonged to You\") (\\u8def\\u8fc7\\u7248)', u'For You And Me In The Cold Wind', u'Wei Ni Wo Shou Leng Feng Chui', u'Qin Ai De Na Bu Shi Ai Qing', u'Every day is a miracle', u'What A Song', u'Same day', u'\\u4ed6\\u4e0d\\u61c2', u'\\u4ee5\\u524d,\\u4ee5\\u540e', u'The Distance of Love', u'Hui Tong De Shi Tou', u'You', u'Lullaby', u'Mama', u'Maps', u'Marry You', u'Marvin Gaye (feat. Meghan Trainor)', u'Marvin Gaye (feat. Meghan Trainor)', u'Mascara', u'Meet Me in the Hallway', u'Mercy', u'Mine', u'Moves Like Jagger', u'Need You Now', u'Nervous', u'Never Be the Same', u'Never Be the Same', u'New Romantics', u'New Rules', u'No Promises (feat. Demi Lovato)', u'Not Today', u\"Nothin' on You (feat. Bruno Mars)\", u'Nothing', u'Nothing Here But Love', u'Nothing Without Love', u'OUTRO: Divina Commedia', u\"Old Flames (Can't Hold A Candle To You)\", u'On Top Of The World', u'One Kiss', u'One Summer Day (Spirited Away)', u'Only You', u'Outside', u'P.S. Wo Ai Ni', u'PILLOWTALK', u'PLAYING WITH FIRE', u'Palette (Feat. G-DRAGON)', u'Panda', u'Paris', u'Party Rock Anthem', u'Payphone', u'Perfect', u'Perfectly Perfect', u'Photograph', u'Pompeii', u'Pound The Alarm', u'Praying', u'Radioactive', u'Rainbow', u'Real Friends', u'Really', u'Red Flavor', u'Ride', u'Riptide', u'River', u'River Flows in You', u'Rockabye (feat. Sean Paul & Anne-Marie)', u'Roses', u'Rude', u'STAY', u'SUPER STAR', u'Safe & Sound', u'Say Something', u\"Say You Won't Let Go\", u'Scared to Be Lonely', u'Scars To Your Beautiful', u'Scream & Shout (Hit-Boy Remix)', u'Secret Love Song', u'See U Later', u'Set Fire To The Rain', u'Setting Fires', u'Sexy And I Know It', u'Sexy And I Know It', u'Shape of You', u'Sign of the Times', u'Silence', u'Sing Me to Sleep', u'Sit Still, Look Pretty', u'Sleepless Night', u'Slow Hands', u'So Good', u'Somebody', u'Somebody That I Used To Know', u'Someone Like Me \\u50cf\\u6211\\u4e00\\u6837\\u7231\\u4f60\\u7684\\u4eba', u'Something Just Like This', u'Sorry', u'Sorry Not Sorry', u'Sparkle (Movie ver.)', u'Spring Day', u'Stargazing', u'Starships', u'Starving', u'Stay', u'Stay With Me', u'Stay With Me (Darkchild Version)', u'Stereo Hearts (feat. Adam Levine)', u'Stitches', u'Strip That Down', u'Style', u'Sucker For Pain (with Logic, Ty Dolla $ign & X Ambassadors)', u'Symphony (feat. Zara Larsson)', u'Talking To The Moon', u'Finding You', u'Fireflies', u'Flashlight (From \"Pitch Perfect 2\")', u'Forever Young', u'Free Loop (Vocal up Version) (Vocal Up Version)', u'From the Dining Table', u'GIRLFRIEND', u'Gashina', u'Get Lucky', u'Girls Like You', u'Glad You Came', u'Glory And Gore', u'Go Now', u'GOOD BOY', u'Good Feeling (Bingo Players Remix)', u'Good For You', u'Good Life', u'Good Time', u'Grenade', u'Habits (Stay High)', u'Hall of Fame', u'Hao Jiu Bu Jian', u'Havana', u'Heart Attack', u'Heartbeat\\u65b0\\u7684\\u5fc3\\u8df3', u'Heathens', u\"Here's to Never Growing Up\", u'Hero', u'Heroine', u'Hey Ma', u'Him & I', u'Holes', u\"Honey, I'm Good\", u'Innocence', u'How Deep Is Your Love', u'How Long', u'How To Love (feat. Sofia Reyes)', u'Hush', u'Hymn', u'I Bet My Life', u'I Do', u'I Don\\u2019t Wanna Live Forever (Fifty Shades Darker)', u'I Got You (Acoustic Version)', u'Bring It Back', u'I Lived', u'I Love It', u'I Love Party (Vox Ver) (Vox ver.)', u'I Miss You', u'I Miss You (feat. Julia Michaels)', u'I Need A Doctor', u'I Really Like You', u\"I'm Not The Only One (Radio Edit)\", u\"I'm Still Loving You\", u\"I'm the One\", u'IDGAF', u'IF YOU', u'INTRO. \\uad8c\\uc9c0\\uc6a9 (Middle Fingers-Up)', u'If I Die Young', u\"In Case You Didn't Know\", u'In My Blood', u'In My Blood', u'In the End', u'In the Name of Love', u'Inside Out', u\"It Ain't Me\", u\"It's Time\", u'Its Alright,This is Love', u'Jar of Hearts', u'Jealous', u'Jealous', u'Just The Way You Are', u'Kiss the Rain', u'LAST DANCE', u'LOVE SCENARIO', u'La La Latch', u'Last Friday Night (T.G.I.F.)', u'Lay Me Down', u'Let Her Go', u'Let Me', u'Let Me Go', u'Let Me Love You (Marshmello Remix)', u'Let You Down', u\"Let's Go\", u'Letting Go', u'Lie (Shine A Light Live Version)', u'Lights (Single Version)', u\"Like I'm Gonna Lose You\", u\"Like I'm Gonna Lose You\", u'Locked Away', u'Locked Out of Heaven', u'Lonely Together', u'Love Me', u'Love Me Harder', u'Love Me Like You Do (From \"Fifty Shades Of Grey\")', u'Love More', u'Love Somebody', u'Love The Way You Lie', u'Love You Like A Love Song', u'Lucky', u'2002', u'2U (feat. Justin Bieber)', u\"5 O'Clock\", u'50 Ways to Say Goodbye', u'7 Years', u'A Different Way', u'A Little Love', u'A Sky Full of Stars', u'A Thousand Years', u'All Falls Down', u'All I Can Think About Is You', u'All of the Stars', u'All The Stars', u'All We Know', u'All You Had To Do Was Stay', u'Alone', u'Always With Me (Spirited Away)', u'Am I Wrong', u'And I Need You Most', u'Animal (Album Version)', u\"AS IF IT'S YOUR LAST\", u'As Long As You Love Me', u'Ass Back Home (feat. Neon Hitch)', u'Attention', u'BURN IT DOWN', u'Back To December', u'Back To You', u'Back in Time', u'Back to You', u'Bad Liar', u'Bastards', u'Beautiful', u'Beauty And A Beat', u'Beauty and the Beast', u'Because of You', u'Bedroom Floor', u'Bedroom Floor', u'Believer', u'Best Luck', u'Blame', u'Blank Space', u'Bleeding Love', u'Blood Sweat & Tears', u'Bloodstream', u'Boys', u'Break Free', u'Break Up Every Night', u'BREATHE, BREATHE', u'Bright', u'Brokenhearted', u'Buried', u'Burn', u'Cake By The Ocean', u'Call Out My Name', u'Castle on the Hill', u'Chandelier', u'Cheap Thrills', u'Cheap Thrills', u'Cheerleader (Felix Jaehn Remix Radio Edit)', u'Clarity (feat. Foxes) [Radio Edit Version] (Radio Edit Version)', u'Clean', u'Closer', u'Cold (Hot Shade & Mike Perry Remix)', u'Come & Get It', u'Connection', u'Cool Kids', u'Cool for the Summer', u'Cross My Mind', u'DDU-DU DDU-DU (Korean Ver.)', u'DNA', u'Dancing On My Own', u'Daylight', u'Despacito', u'Diamonds', u\"Don't Let Me Down\", u\"Don't Wake Me Up\", u\"Don't Wanna Know\", u'Done For Me (feat. Kehlani)', u'Drag Me Down', u'Dream', u'Drenched', u'Drive By', u'Dusk Till Dawn (Radio Edit)', u'End Game', u'Endtapes', u'Ever Since New York', u'Everybody Hurts', u'Everybody Talks', u'Everything Has Changed', u\"Everything's Okay\", u'Everytime', u'FRIENDS', u'FXXK IT', u'Faded', u'Fancy (Riddim Commission Remix|Explicit)', u'Feels', u'Fetish', u'Fetish (Galantis Remix)', u'Fight Song', u'Find It']\n",
    "song_list = list(set(song_list)) # remove duplicates\n",
    "sp.trace = False\n",
    "\n",
    "songs_notFound = []\n",
    "trackIds_found = []\n",
    "\n",
    "print(\"Number of songs:\",len(song_list))\n",
    "\n",
    "for idx, song in enumerate(song_list):\n",
    "    \n",
    "    # Print iteration Number\n",
    "    if idx%50 == 0:\n",
    "        print(\"Iteration: \", idx+1, \"/\", len(song_list))\n",
    "        \n",
    "    # Query song\n",
    "    results = sp.search(song,type='track')['tracks']\n",
    "    \n",
    "    # Check if query result is empty\n",
    "    if len(results['items']) == 0 :\n",
    "        songs_notFound.append(song)\n",
    "        \n",
    "    else:\n",
    "        trackIds_found.append(results['items'][0]['id'])\n",
    "        \n",
    "print(\"Number of Songs not found: \", len(songs_notFound))\n",
    "print(\"Number of Songs found: \", len(trackIds_found))\n",
    "print(\"Number of duplicates: \", len(trackIds_found)-len(set(trackIds_found)))"
   ]
  },
  {
   "cell_type": "markdown",
   "metadata": {},
   "source": [
    "Create new playlist and add tracks "
   ]
  },
  {
   "cell_type": "code",
   "execution_count": 98,
   "metadata": {},
   "outputs": [
    {
     "data": {
      "text/plain": [
       "{'snapshot_id': 'NywwODVlMWRhMDk4OGM0MzBjYjIxM2QyY2IyODNiZjc5ZGI0OTdhMDAx'}"
      ]
     },
     "execution_count": 98,
     "metadata": {},
     "output_type": "execute_result"
    }
   ],
   "source": [
    "\n",
    "track_ids = list(set(trackIds_found)) # remove duplicates\n",
    "batch_number = 100 # Add tracks in batches (100)\n",
    "playlist_name = 'tsx'\n",
    "\n",
    "# Create a new playlist\n",
    "playlists = sp.user_playlist_create(username, playlist_name)\n",
    "playlist_id = playlists['id']\n",
    "\n",
    "# Add tracks to playlist\n",
    "for i in range(math.floor(len(track_ids)/batch_number)):\n",
    "    sp.user_playlist_add_tracks(username, playlist_id, track_ids[(i)*batch_number:(i+1)*batch_number])\n",
    "sp.user_playlist_add_tracks(username, playlist_id, track_ids[(i+1)*batch_number:])\n"
   ]
  },
  {
   "cell_type": "code",
   "execution_count": 99,
   "metadata": {},
   "outputs": [
    {
     "name": "stdout",
     "output_type": "stream",
     "text": [
      "Hello (Owari)\n",
      "Can't Bear It (Ending Credit Theme Song Of ''You Are My Sunshine'')\n",
      "Xia Yi Miao\n",
      "I Love Party (Vox Ver) (Vox ver.)\n",
      "Wo Bu Neng Wang Ji Ni - Dian Ying \" Ji Yi Da Shi \" Ji Yi Zhu Ti Qu\n",
      "分开以后 (2014回忆回放版)\n",
      "Guang Hui Sui Yue\n",
      "Yi Xiao Qing Cheng (合唱版)\n",
      "The Third Person And I\n",
      "Today (feat. Kim Jong Wan of NELL)\n",
      "Yu Huo Cheng Shi\n",
      "Too Good At Goodbyes (Edit)\n",
      "Qin Ai De Na Bu Shi Ai Qing\n",
      "Lie (Shine A Light Live Version)\n",
      "Wo Men Mei You Zai Yi Qi\n",
      "Yi Ran Yi Bao Zha\n",
      "Di Yi Bai Ge Wo (Man)\n",
      "Spoiled Innocence\n",
      "Back to the Day (Theme song of TV Drama \"Magical Space-Time\")\n",
      "千古（電視劇《花千骨》片頭曲）\n",
      "Que Kou (Dian Ying \"Deng Yi Ge Ren Ka Fei\" Zhu Ti Qu)\n",
      "Yan Lei De Ming Zi\n",
      "Waiting For You (等你下课)\n",
      "Kong Kong Ru Ye\n",
      "Clarity (feat. Foxes) [Radio Edit Version] (Radio Edit Version)\n",
      "Wo Zhen De Shou Shang Le (Original Cut)\n",
      "Zai Xing Fu De Lu Shang - Fanfan Fan Wei Qi \" Zai Xing Fu De Lu Shang \" Shijie Xun Hui Yan Chang Hui Zhu Ti Qu\n",
      "Wo Duo Xi Huan Ni , Ni Hui Zhi Dao\n",
      "Wei Ni Wo Shou Leng Feng Chui\n",
      "San Sheng San Shi - Dian Shi Ju \" San Sheng San Shi Shi Li Tao Hua \" Pian Tou Qu\n",
      "Ai Tai Tong\n",
      "You Are So Cute (feat. Song Ji Hyo)\n",
      "Wo Bu Nan Guo\n",
      "Ai Zhe Ai Zhe Jiu Yong Yuan\n",
      "Tacit (The Theme Song of \"I Belonged to You\")\n",
      "Gai Wang De Ri Zi - Han Ju \" Yun Hua De Yue Guang \" Pian Wei Qu\n",
      "Gei Wo Yi Ge Li You Wang Ji\n",
      "Qi Shi Wo Men Zhi De Xing Fu\n",
      "Xi Huan Ji Mo\n",
      "Hun Li De Zhu Fu\n",
      "Love Doesn't Need To Pretend (feat. Diana Wang)\n",
      "Ni Jiu Bu Yao Xiang Qi Wo\n",
      "Tu Ran Hao Xiang Ni\n",
      "P.S. Wo Ai Ni\n",
      "Ping Fan Zhi Lu\n",
      "Tiao Wu De Fan Gu\n",
      "Ni Zai Fan Nao She Mo\n",
      "Hui Yi Na Mo Shang\n",
      "You Yi Zhong Yong Qi Jiao Fang Qi\n",
      "Pei Ni - Dian Ying \" Ling Bo Te Fan Nao \" Zhu Ti Qu\n",
      "Heartbeat新的心跳\n",
      "Wo Bu Shi Ni Gai Ai De Na Ge Ren\n",
      "Ni Bu Shi Zhen Zheng De Kuai Le\n",
      "Without You (feat. Z-Chen)\n",
      "Wo Zhi Xiang Zai Hu Wo Zai Hu De\n",
      "Lian Ming Dai Xing\n",
      "Yan Huo Li De Chen Ai\n",
      "剛剛好（《我與你的光年距離》 影視原聲大碟）\n",
      "Dang Ai Lai Qiao Men - Dian Shi Ju \" Fang Qi Wo , Zhua Jin Wo \" Pian Wei Qu\n",
      "Mo Gui Zhong De Tian Shi\n",
      "Fancy (Riddim Commission Remix|Explicit)\n",
      "For You And Me In The Cold Wind\n",
      "Nian Lun Shuo\n",
      "Tacit (The Theme Song of \"I Belonged to You\") (路过版)\n",
      "Xing Fu Le Ran Hou Ne\n",
      "Dian Qi Jiao Jian Ai\n",
      "Harmless Loneliness (GTV Korean Series \"All about My Mom\" Opening Theme Song)\n",
      "Yi Qian Wan Ci De Lei Shui\n",
      "Gu Dan Xin Shi\n",
      "不可說（電視劇《花千骨》片尾曲）\n",
      "Unbreakable Love ((The theme song of micro movie) [the most precious thing of love, the voice])\n",
      "Shei (Live Version)\n",
      "Zhu Ni Yi Lu Shun Feng\n",
      "Hui Tong De Shi Tou\n",
      "When The Wind Blows (Korean Ver.)\n",
      "Shi Shen Me Rang Wo Yu Jian Zhe Yang De Ni\n",
      "Hen Jiu Hen Jiu Yi Hou\n",
      "DDU-DU DDU-DU (Korean Ver.)\n",
      "Wo Hen Yu Kuai\n",
      "This Love (Shine A Light Live Version)\n",
      "Wei Wei Yi Xiao Hen Qing Cheng\n",
      "Si Mu - Dian Shi Ju \" San Sheng San Shi Shi Li Tao Hua \" Zhu Ren Gong Ren Wu Qu\n",
      "Rang Wo Liu Zai Ni Shen Bian\n",
      "Liang Liang - Dian Shi Ju \" San Sheng San Shi Shi Li Tao Hua \" Pian Wei Qu\n",
      "Growing Fond of You\n",
      "Without You (feat.OF YG NEW GIRL GROUP)\n",
      "The Promise Of Peach Blossom\n",
      "Hao Peng You De Zhu Fu\n",
      "Who in the world will listen to you?\n",
      "Scream & Shout (Hit-Boy Remix)\n"
     ]
    }
   ],
   "source": [
    "for song in songs_notAdded:\n",
    "    print(song)"
   ]
  },
  {
   "cell_type": "code",
   "execution_count": 103,
   "metadata": {},
   "outputs": [
    {
     "data": {
      "text/plain": [
       "0"
      ]
     },
     "execution_count": 103,
     "metadata": {},
     "output_type": "execute_result"
    }
   ],
   "source": []
  }
 ],
 "metadata": {
  "kernelspec": {
   "display_name": "Python 3",
   "language": "python",
   "name": "python3"
  },
  "language_info": {
   "codemirror_mode": {
    "name": "ipython",
    "version": 3
   },
   "file_extension": ".py",
   "mimetype": "text/x-python",
   "name": "python",
   "nbconvert_exporter": "python",
   "pygments_lexer": "ipython3",
   "version": "3.7.2"
  }
 },
 "nbformat": 4,
 "nbformat_minor": 2
}
